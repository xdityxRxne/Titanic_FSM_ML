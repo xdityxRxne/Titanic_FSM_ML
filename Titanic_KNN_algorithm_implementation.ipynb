{
 "cells": [
  {
   "cell_type": "code",
   "execution_count": 1,
   "id": "49f81332",
   "metadata": {},
   "outputs": [
    {
     "name": "stdout",
     "output_type": "stream",
     "text": [
      "Predictions: [0, 0, 0, 0, 0, 0, 1, 0, 0, 1, 0, 1, 1, 0, 1, 0, 0, 0, 1, 0, 0, 1, 1, 0, 0, 0, 0, 0, 1, 0, 1, 1, 0, 0, 0, 1, 0, 0, 1, 1, 0, 0, 0, 0, 1, 0, 1, 0, 1, 0, 0, 0, 0, 0, 0, 1, 1, 1, 0, 0, 0, 1, 0, 0, 0, 0, 0, 1, 0, 0, 1, 1, 1, 0, 0, 0, 0, 0, 0, 1, 1, 0, 0, 1, 0, 0, 0, 0, 1, 1, 0, 0, 0, 0, 0, 0, 1, 1, 1, 0, 0, 0, 1, 0, 1, 0, 0, 1, 1, 0, 0, 0, 0, 1, 0, 1, 0, 0, 0, 1, 0, 0, 0, 0, 1, 1, 0, 0, 0, 1, 0, 0, 1, 0, 0, 0, 0, 1, 1, 0, 0, 0, 0, 1, 0, 0, 0, 0, 0, 0, 1, 1, 0, 0, 0, 1, 0, 1, 0, 0, 1, 0, 0, 0, 0, 0, 1, 1, 0, 0, 1, 0, 0, 0, 0, 1, 0, 0, 0]\n"
     ]
    }
   ],
   "source": [
    "import numpy as np\n",
    "import pandas as pd\n",
    "\n",
    "# Data preprocessing\n",
    "def preprocess_data(data):\n",
    "    # Drop irrelevant features\n",
    "    data = data.drop(['PassengerId', 'Name', 'Ticket', 'Cabin'], axis=1)\n",
    "    \n",
    "    # Fill missing values\n",
    "    data['Age'].fillna(data['Age'].median(), inplace=True)\n",
    "    data['Fare'].fillna(data['Fare'].median(), inplace=True)\n",
    "    data['Embarked'].fillna(data['Embarked'].mode()[0], inplace=True)\n",
    "    \n",
    "    # Convert categorical variables to numerical\n",
    "    data['Sex'] = data['Sex'].map({'female': 0, 'male': 1})\n",
    "    data['Embarked'] = data['Embarked'].map({'S': 0, 'C': 1, 'Q': 2})\n",
    "    \n",
    "    return data\n",
    "\n",
    "# Splitting the data\n",
    "def train_test_split(inputs, target, test_size):\n",
    "    indices = np.arange(len(inputs))\n",
    "    np.random.shuffle(indices)\n",
    "    split_index = int(len(inputs) * (1 - test_size))\n",
    "    train_indices = indices[:split_index]\n",
    "    test_indices = indices[split_index:]\n",
    "    X_train = inputs.iloc[train_indices].values\n",
    "    X_test = inputs.iloc[test_indices].values\n",
    "    y_train = target[train_indices]\n",
    "    y_test = target[test_indices]\n",
    "    return X_train, X_test, y_train, y_test\n",
    "\n",
    "# Euclidean distance\n",
    "def euclidean_distance(x1, x2):\n",
    "    return np.sqrt(np.sum((x1 - x2) ** 2))\n",
    "\n",
    "# KNN classifier\n",
    "def knn_classifier(X_train, y_train, X_test, k):\n",
    "    predictions = []\n",
    "    for test_sample in X_test:\n",
    "        distances = []\n",
    "        for train_sample, train_label in zip(X_train, y_train):\n",
    "            distance = euclidean_distance(test_sample, train_sample)\n",
    "            distances.append((distance, train_label))\n",
    "        distances.sort(key=lambda x: x[0])\n",
    "        k_nearest_neighbors = distances[:k]\n",
    "        labels = [neighbor[1] for neighbor in k_nearest_neighbors]\n",
    "        predicted_label = max(labels, key=labels.count)\n",
    "        predictions.append(predicted_label)\n",
    "    return predictions\n",
    "\n",
    "# Load and preprocess the data\n",
    "train_data = pd.read_csv('train.csv')\n",
    "test_data = pd.read_csv('test.csv')\n",
    "\n",
    "train_data = preprocess_data(train_data)\n",
    "test_data = preprocess_data(test_data)\n",
    "\n",
    "# Split the data into inputs and target\n",
    "inputs = train_data.drop('Survived', axis=1)\n",
    "target = train_data['Survived']\n",
    "\n",
    "# Split the data into train and test sets\n",
    "X_train, X_test, y_train, y_test = train_test_split(inputs, target, test_size=0.2)\n",
    "\n",
    "# Convert target values to numpy array\n",
    "y_train = y_train.values\n",
    "\n",
    "# Set the number of nearest neighbors (k)\n",
    "k = 5\n",
    "\n",
    "# Run the KNN classifier\n",
    "predictions = knn_classifier(X_train, y_train, X_test, k)\n",
    "print(\"Predictions:\", predictions)\n"
   ]
  },
  {
   "cell_type": "code",
   "execution_count": 2,
   "id": "bad4e75b",
   "metadata": {},
   "outputs": [
    {
     "name": "stdout",
     "output_type": "stream",
     "text": [
      "Accuracy: 0.6815642458100558\n"
     ]
    }
   ],
   "source": [
    "# Calculate accuracy\n",
    "def calculate_accuracy(predictions, y_test):\n",
    "    correct_predictions = np.sum(predictions == y_test)\n",
    "    total_predictions = len(predictions)\n",
    "    accuracy = correct_predictions / total_predictions\n",
    "    return accuracy\n",
    "\n",
    "# Calculate accuracy of the model\n",
    "accuracy = calculate_accuracy(predictions, y_test)\n",
    "print(\"Accuracy:\", accuracy)"
   ]
  },
  {
   "cell_type": "code",
   "execution_count": null,
   "id": "85ce5e74",
   "metadata": {},
   "outputs": [],
   "source": []
  }
 ],
 "metadata": {
  "kernelspec": {
   "display_name": "Python 3 (ipykernel)",
   "language": "python",
   "name": "python3"
  },
  "language_info": {
   "codemirror_mode": {
    "name": "ipython",
    "version": 3
   },
   "file_extension": ".py",
   "mimetype": "text/x-python",
   "name": "python",
   "nbconvert_exporter": "python",
   "pygments_lexer": "ipython3",
   "version": "3.9.12"
  }
 },
 "nbformat": 4,
 "nbformat_minor": 5
}
