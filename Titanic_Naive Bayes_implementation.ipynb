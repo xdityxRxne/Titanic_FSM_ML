{
 "cells": [
  {
   "cell_type": "code",
   "execution_count": 1,
   "id": "4a5246db",
   "metadata": {},
   "outputs": [
    {
     "name": "stdout",
     "output_type": "stream",
     "text": [
      "Predictions: [0, 0, 0, 0, 0, 0, 1, 0, 0, 0, 0, 0, 1, 1, 0, 0, 1, 0, 0, 1, 0, 0, 1, 0, 1, 1, 0, 0, 0, 1, 0, 1, 0, 0, 1, 0, 0, 0, 0, 0, 1, 1, 0, 1, 0, 0, 0, 1, 1, 1, 0, 1, 1, 1, 1, 0, 1, 1, 1, 1, 1, 1, 1, 0, 0, 0, 1, 0, 0, 1, 0, 1, 0, 1, 0, 1, 0, 1, 0, 0, 1, 1, 0, 0, 1, 0, 0, 0, 0, 0, 1, 1, 1, 0, 0, 0, 1, 0, 1, 0, 1, 0, 1, 1, 0, 0, 0, 1, 0, 0, 0, 0, 1, 0, 0, 0, 0, 1, 0, 0, 0, 0, 0, 0, 0, 1, 0, 0, 0, 1, 1, 0, 0, 0, 0, 0, 0, 0, 0, 0, 0, 1, 1, 1, 0, 0, 1, 0, 1, 1, 0, 1, 0, 0, 0, 1, 0, 0, 0, 0, 0, 0, 1, 1, 1, 0, 1, 1, 1, 0, 0, 0, 0, 0, 0, 0, 0, 0, 0]\n"
     ]
    }
   ],
   "source": [
    "import numpy as np\n",
    "import pandas as pd\n",
    "\n",
    "# Data preprocessing\n",
    "def preprocess_data(data):\n",
    "    # Drop irrelevant features\n",
    "    data = data.drop(['PassengerId', 'Name', 'Ticket', 'Cabin'], axis=1)\n",
    "    \n",
    "    # Fill missing values\n",
    "    data['Age'].fillna(data['Age'].median(), inplace=True)\n",
    "    data['Fare'].fillna(data['Fare'].median(), inplace=True)\n",
    "    data['Embarked'].fillna(data['Embarked'].mode()[0], inplace=True)\n",
    "    \n",
    "    # Convert categorical variables to numerical\n",
    "    data['Sex'] = data['Sex'].map({'female': 0, 'male': 1})\n",
    "    data['Embarked'] = data['Embarked'].map({'S': 0, 'C': 1, 'Q': 2})\n",
    "    \n",
    "    return data\n",
    "\n",
    "# Splitting the data\n",
    "def train_test_split(inputs, target, test_size):\n",
    "    indices = np.arange(len(inputs))\n",
    "    np.random.shuffle(indices)\n",
    "    split_index = int(len(inputs) * (1 - test_size))\n",
    "    train_indices = indices[:split_index]\n",
    "    test_indices = indices[split_index:]\n",
    "    X_train = inputs.iloc[train_indices].values\n",
    "    X_test = inputs.iloc[test_indices].values\n",
    "    y_train = target[train_indices]\n",
    "    y_test = target[test_indices]\n",
    "    return X_train, X_test, y_train, y_test\n",
    "\n",
    "# Calculate prior probabilities\n",
    "def calculate_prior_probabilities(y_train):\n",
    "    unique_classes, class_counts = np.unique(y_train, return_counts=True)\n",
    "    total_samples = len(y_train)\n",
    "    prior_probabilities = {}\n",
    "    for cls, count in zip(unique_classes, class_counts):\n",
    "        prior_probabilities[cls] = count / total_samples\n",
    "    return prior_probabilities\n",
    "\n",
    "# Calculate likelihood probabilities\n",
    "def calculate_likelihood_probabilities(X_train, y_train):\n",
    "    num_classes = np.unique(y_train).shape[0]\n",
    "    num_features = X_train.shape[1]\n",
    "    likelihood_probabilities = {}\n",
    "    for cls in np.unique(y_train):\n",
    "        X_cls = X_train[y_train == cls]\n",
    "        likelihood_probabilities[cls] = {}\n",
    "        for feature in range(num_features):\n",
    "            unique_values, value_counts = np.unique(X_cls[:, feature], return_counts=True)\n",
    "            total_samples = X_cls.shape[0]\n",
    "            likelihood_probabilities[cls][feature] = {}\n",
    "            for value, count in zip(unique_values, value_counts):\n",
    "                likelihood_probabilities[cls][feature][value] = count / total_samples\n",
    "    return likelihood_probabilities\n",
    "\n",
    "# Naive Bayes classifier\n",
    "def naive_bayes_classifier(X_train, y_train, X_test):\n",
    "    prior_probabilities = calculate_prior_probabilities(y_train)\n",
    "    likelihood_probabilities = calculate_likelihood_probabilities(X_train, y_train)\n",
    "    num_classes = len(prior_probabilities)\n",
    "    num_samples = X_test.shape[0]\n",
    "    predictions = []\n",
    "    for sample in X_test:\n",
    "        class_scores = {}\n",
    "        for cls in prior_probabilities:\n",
    "            class_scores[cls] = np.log(prior_probabilities[cls])\n",
    "            for feature, value in enumerate(sample):\n",
    "                if value in likelihood_probabilities[cls][feature]:\n",
    "                    class_scores[cls] += np.log(likelihood_probabilities[cls][feature][value])\n",
    "                else:\n",
    "                    # If a feature value is unseen in training, assume a small probability\n",
    "                    class_scores[cls] += np.log(1e-9)\n",
    "        predicted_class = max(class_scores, key=class_scores.get)\n",
    "        predictions.append(predicted_class)\n",
    "    return predictions\n",
    "\n",
    "# Load and preprocess the data\n",
    "train_data = pd.read_csv('train.csv')\n",
    "test_data = pd.read_csv('test.csv')\n",
    "\n",
    "train_data = preprocess_data(train_data)\n",
    "test_data = preprocess_data(test_data)\n",
    "\n",
    "# Split the data into inputs and target\n",
    "inputs = train_data.drop('Survived', axis=1)\n",
    "target = train_data['Survived']\n",
    "\n",
    "# Split the data into train and test sets\n",
    "X_train, X_test, y_train, y_test = train_test_split(inputs, target, test_size=0.2)\n",
    "\n",
    "# Convert target values to numpy array\n",
    "y_train = y_train.values\n",
    "\n",
    "# Run the Naive Bayes classifier\n",
    "predictions = naive_bayes_classifier(X_train, y_train, X_test)\n",
    "print(\"Predictions:\", predictions)"
   ]
  },
  {
   "cell_type": "code",
   "execution_count": 2,
   "id": "d65d95e7",
   "metadata": {},
   "outputs": [
    {
     "name": "stdout",
     "output_type": "stream",
     "text": [
      "Accuracy: 0.8156424581005587\n"
     ]
    }
   ],
   "source": [
    "# Calculate accuracy\n",
    "def calculate_accuracy(predictions, y_test):\n",
    "    correct_predictions = np.sum(predictions == y_test)\n",
    "    total_predictions = len(predictions)\n",
    "    accuracy = correct_predictions / total_predictions\n",
    "    return accuracy\n",
    "\n",
    "# Calculate accuracy of the model\n",
    "accuracy = calculate_accuracy(predictions, y_test)\n",
    "print(\"Accuracy:\", accuracy)"
   ]
  },
  {
   "cell_type": "code",
   "execution_count": null,
   "id": "f0d3c925",
   "metadata": {},
   "outputs": [],
   "source": []
  }
 ],
 "metadata": {
  "kernelspec": {
   "display_name": "Python 3 (ipykernel)",
   "language": "python",
   "name": "python3"
  },
  "language_info": {
   "codemirror_mode": {
    "name": "ipython",
    "version": 3
   },
   "file_extension": ".py",
   "mimetype": "text/x-python",
   "name": "python",
   "nbconvert_exporter": "python",
   "pygments_lexer": "ipython3",
   "version": "3.9.12"
  }
 },
 "nbformat": 4,
 "nbformat_minor": 5
}
